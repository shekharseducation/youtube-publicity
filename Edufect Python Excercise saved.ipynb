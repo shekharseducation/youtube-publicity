{
 "cells": [
  {
   "cell_type": "code",
   "execution_count": 1,
   "metadata": {},
   "outputs": [
    {
     "name": "stdout",
     "output_type": "stream",
     "text": [
      "[ 4  8 10 12]\n"
     ]
    }
   ],
   "source": [
    "import numpy as np\n",
    "list1 = [4,8,10,12]\n",
    "ar1 = np.array(list1)\n",
    "print(ar1)\n"
   ]
  },
  {
   "cell_type": "code",
   "execution_count": 2,
   "metadata": {},
   "outputs": [
    {
     "name": "stdout",
     "output_type": "stream",
     "text": [
      "[100   4  25  10  12  15]\n",
      "Length of array = 6\n"
     ]
    }
   ],
   "source": [
    "import numpy as np\n",
    "list1 = [1,4,8,10,12,15]\n",
    "ar1 = np.array(list1)\n",
    "ar1[0] = 100\n",
    "ar1[2] = 25\n",
    "print(ar1)\n",
    "print(\"Length of array = {}\".format(len(ar1)))\n"
   ]
  },
  {
   "cell_type": "code",
   "execution_count": 3,
   "metadata": {},
   "outputs": [
    {
     "name": "stdout",
     "output_type": "stream",
     "text": [
      "[100  13  25]\n",
      "Length of array = 3\n"
     ]
    }
   ],
   "source": [
    "import numpy as np\n",
    "list1 = [12,13,14]\n",
    "ar1 = np.array(list1)\n",
    "ar1[0] = 100\n",
    "ar1[2] = 25\n",
    "print(ar1)\n",
    "print(\"Length of array = {}\".format(len(ar1)))"
   ]
  },
  {
   "cell_type": "code",
   "execution_count": 5,
   "metadata": {},
   "outputs": [
    {
     "name": "stdout",
     "output_type": "stream",
     "text": [
      "[100  20  25  30  35  40  45  50]\n",
      "Length of array = 8\n"
     ]
    }
   ],
   "source": [
    "import numpy as np\n",
    "list1 = [10,20,25,30,35,40,45,50]\n",
    "ar1 = np.array(list1)\n",
    "ar1[0] = 100\n",
    "ar1[2] = 25\n",
    "print(ar1)\n",
    "print(\"Length of array = {}\".format(len(ar1)))"
   ]
  },
  {
   "cell_type": "code",
   "execution_count": 8,
   "metadata": {},
   "outputs": [
    {
     "name": "stdout",
     "output_type": "stream",
     "text": [
      "18\n"
     ]
    }
   ],
   "source": [
    "import numpy as np\n",
    "list1 = [3,4,5,6]\n",
    "arr = np.array(list1)\n",
    "x=0\n",
    "for m in arr:\n",
    "    x=x+m\n",
    "print(x)"
   ]
  },
  {
   "cell_type": "code",
   "execution_count": 9,
   "metadata": {},
   "outputs": [
    {
     "name": "stdout",
     "output_type": "stream",
     "text": [
      "10\n"
     ]
    }
   ],
   "source": [
    "import numpy as np\n",
    "list1 = [10]\n",
    "arr = np.array(list1)\n",
    "x=0\n",
    "for m in arr:\n",
    "    x=x+m\n",
    "print(x)"
   ]
  },
  {
   "cell_type": "code",
   "execution_count": 10,
   "metadata": {},
   "outputs": [
    {
     "name": "stdout",
     "output_type": "stream",
     "text": [
      "15\n"
     ]
    }
   ],
   "source": [
    "import numpy as np\n",
    "list1 = [1,2,3,4,5]\n",
    "arr = np.array(list1)\n",
    "x=0\n",
    "for m in arr:\n",
    "    x=x+m\n",
    "print(x)"
   ]
  },
  {
   "cell_type": "code",
   "execution_count": 11,
   "metadata": {},
   "outputs": [
    {
     "name": "stdout",
     "output_type": "stream",
     "text": [
      "Sum of array = 34\n"
     ]
    }
   ],
   "source": [
    "import numpy as np\n",
    "list1 = [4,8,10,12]\n",
    "ar1=np.array(list1)\n",
    "ar1=np.array(list1)\n",
    "sum_ar1 = np.sum(ar1)\n",
    "print(\"Sum of array = {}\".format(sum_ar1))\n"
   ]
  },
  {
   "cell_type": "code",
   "execution_count": 12,
   "metadata": {},
   "outputs": [
    {
     "name": "stdout",
     "output_type": "stream",
     "text": [
      "Sum of array = 10\n"
     ]
    }
   ],
   "source": [
    "import numpy as np\n",
    "list1 = [1,2,3,4]\n",
    "ar1=np.array(list1)\n",
    "ar1=np.array(list1)\n",
    "sum_ar1 = np.sum(ar1)\n",
    "print(\"Sum of array = {}\".format(sum_ar1))"
   ]
  },
  {
   "cell_type": "code",
   "execution_count": 13,
   "metadata": {},
   "outputs": [
    {
     "name": "stdout",
     "output_type": "stream",
     "text": [
      "Sum of array = 10\n"
     ]
    }
   ],
   "source": [
    "import numpy as np\n",
    "list1 = [10]\n",
    "ar1=np.array(list1)\n",
    "ar1=np.array(list1)\n",
    "sum_ar1 = np.sum(ar1)\n",
    "print(\"Sum of array = {}\".format(sum_ar1))"
   ]
  },
  {
   "cell_type": "code",
   "execution_count": 14,
   "metadata": {},
   "outputs": [
    {
     "name": "stdout",
     "output_type": "stream",
     "text": [
      "Mean of array=7.0\n"
     ]
    }
   ],
   "source": [
    "import numpy as np\n",
    "list1 = [3,6,12]\n",
    "ar1 = np.array(list1)\n",
    "mean_ar1 = np.mean(ar1)\n",
    "print(\"Mean of array={}\".format(mean_ar1))"
   ]
  },
  {
   "cell_type": "code",
   "execution_count": 15,
   "metadata": {},
   "outputs": [
    {
     "name": "stdout",
     "output_type": "stream",
     "text": [
      "Mean of array=14.0\n"
     ]
    }
   ],
   "source": [
    "import numpy as np\n",
    "list1 = [12,13,14,17]\n",
    "ar1 = np.array(list1)\n",
    "mean_ar1 = np.mean(ar1)\n",
    "print(\"Mean of array={}\".format(mean_ar1))"
   ]
  },
  {
   "cell_type": "code",
   "execution_count": 16,
   "metadata": {},
   "outputs": [
    {
     "name": "stdout",
     "output_type": "stream",
     "text": [
      "Mean of array=30.0\n"
     ]
    }
   ],
   "source": [
    "import numpy as np\n",
    "list1 = [10,20,30,40,50]\n",
    "ar1 = np.array(list1)\n",
    "mean_ar1 = np.mean(ar1)\n",
    "print(\"Mean of array={}\".format(mean_ar1))"
   ]
  },
  {
   "cell_type": "code",
   "execution_count": 17,
   "metadata": {},
   "outputs": [
    {
     "name": "stdout",
     "output_type": "stream",
     "text": [
      "Min of array = 3\n",
      "Max of array = 12\n"
     ]
    }
   ],
   "source": [
    "import numpy as np\n",
    "list1 = [3,6,12]\n",
    "nums=np.array(list1)\n",
    "min1 = np.min(nums)\n",
    "max1= np.max(nums)\n",
    "print(\"Min of array = {}\".format(min1))\n",
    "print(\"Max of array = {}\".format(max1))"
   ]
  },
  {
   "cell_type": "code",
   "execution_count": 18,
   "metadata": {},
   "outputs": [
    {
     "name": "stdout",
     "output_type": "stream",
     "text": [
      "Min of array = 12\n",
      "Max of array = 30\n"
     ]
    }
   ],
   "source": [
    "import numpy as np\n",
    "list1 = [20,30,12,13,14,17]\n",
    "nums=np.array(list1)\n",
    "min1 = np.min(nums)\n",
    "max1= np.max(nums)\n",
    "print(\"Min of array = {}\".format(min1))\n",
    "print(\"Max of array = {}\".format(max1))"
   ]
  },
  {
   "cell_type": "code",
   "execution_count": 19,
   "metadata": {},
   "outputs": [
    {
     "name": "stdout",
     "output_type": "stream",
     "text": [
      "Min of array = 2\n",
      "Max of array = 8\n"
     ]
    }
   ],
   "source": [
    "import numpy as np\n",
    "list1 = [4,8,2,4,6,7]\n",
    "nums=np.array(list1)\n",
    "min1 = np.min(nums)\n",
    "max1= np.max(nums)\n",
    "print(\"Min of array = {}\".format(min1))\n",
    "print(\"Max of array = {}\".format(max1))"
   ]
  },
  {
   "cell_type": "code",
   "execution_count": 22,
   "metadata": {},
   "outputs": [
    {
     "name": "stdout",
     "output_type": "stream",
     "text": [
      "[[ 3  6 11]]\n"
     ]
    }
   ],
   "source": [
    "import numpy as np\n",
    "list2=[2,5,10]\n",
    "b=1\n",
    "a=np.array([list2])\n",
    "a=a+b\n",
    "print(a)"
   ]
  },
  {
   "cell_type": "code",
   "execution_count": 23,
   "metadata": {},
   "outputs": [
    {
     "name": "stdout",
     "output_type": "stream",
     "text": [
      "[[4 5 6 7]]\n"
     ]
    }
   ],
   "source": [
    "import numpy as np\n",
    "list2=[1,2,3,4]\n",
    "b=3\n",
    "a=np.array([list2])\n",
    "a=a+b\n",
    "print(a)"
   ]
  },
  {
   "cell_type": "code",
   "execution_count": 24,
   "metadata": {},
   "outputs": [
    {
     "name": "stdout",
     "output_type": "stream",
     "text": [
      "[[26]]\n"
     ]
    }
   ],
   "source": [
    "import numpy as np\n",
    "list2=[20]\n",
    "b=6\n",
    "a=np.array([list2])\n",
    "a=a+b\n",
    "print(a)"
   ]
  },
  {
   "cell_type": "code",
   "execution_count": 25,
   "metadata": {},
   "outputs": [
    {
     "name": "stdout",
     "output_type": "stream",
     "text": [
      "[[6 7 8 9]]\n"
     ]
    }
   ],
   "source": [
    "import numpy as np\n",
    "list2=[3,4,5,6]\n",
    "b=1\n",
    "a=np.array([list2])\n",
    "a=a+3*b\n",
    "print(a)"
   ]
  },
  {
   "cell_type": "code",
   "execution_count": 26,
   "metadata": {},
   "outputs": [
    {
     "name": "stdout",
     "output_type": "stream",
     "text": [
      "[[10 11 12 13]]\n"
     ]
    }
   ],
   "source": [
    "import numpy as np\n",
    "list2=[1,2,3,4]\n",
    "b=3\n",
    "a=np.array([list2])\n",
    "a=a+3*b\n",
    "print(a)"
   ]
  },
  {
   "cell_type": "code",
   "execution_count": 27,
   "metadata": {},
   "outputs": [
    {
     "name": "stdout",
     "output_type": "stream",
     "text": [
      "[[38]]\n"
     ]
    }
   ],
   "source": [
    "import numpy as np\n",
    "list2=[20]\n",
    "b=6\n",
    "a=np.array([list2])\n",
    "a=a+3*b\n",
    "print(a)"
   ]
  },
  {
   "cell_type": "code",
   "execution_count": 28,
   "metadata": {},
   "outputs": [
    {
     "name": "stdout",
     "output_type": "stream",
     "text": [
      "[[ 4  8 12 16]]\n"
     ]
    }
   ],
   "source": [
    "import numpy as np\n",
    "list2=[1,2,3,4]\n",
    "a=np.array([list2])\n",
    "a=a*4\n",
    "print(a)"
   ]
  },
  {
   "cell_type": "code",
   "execution_count": 29,
   "metadata": {},
   "outputs": [
    {
     "name": "stdout",
     "output_type": "stream",
     "text": [
      "[[ 8 20]]\n"
     ]
    }
   ],
   "source": [
    "import numpy as np\n",
    "list2=[2,5]\n",
    "a=np.array([list2])\n",
    "a=a*4\n",
    "print(a)"
   ]
  },
  {
   "cell_type": "code",
   "execution_count": 30,
   "metadata": {},
   "outputs": [
    {
     "name": "stdout",
     "output_type": "stream",
     "text": [
      "[[44]]\n"
     ]
    }
   ],
   "source": [
    "import numpy as np\n",
    "list2=[11]\n",
    "a=np.array([list2])\n",
    "a=a*4\n",
    "print(a)"
   ]
  },
  {
   "cell_type": "code",
   "execution_count": 31,
   "metadata": {},
   "outputs": [
    {
     "name": "stdout",
     "output_type": "stream",
     "text": [
      "[[1. 2. 3.]]\n"
     ]
    }
   ],
   "source": [
    "import numpy as np\n",
    "list2=[3,6,9]\n",
    "x=3\n",
    "a=np.array([list2])\n",
    "a=a/x\n",
    "print(a)"
   ]
  },
  {
   "cell_type": "code",
   "execution_count": 32,
   "metadata": {},
   "outputs": [
    {
     "name": "stdout",
     "output_type": "stream",
     "text": [
      "[[1. 2. 4. 5.]]\n"
     ]
    }
   ],
   "source": [
    "import numpy as np\n",
    "list2=[2,4,8,10]\n",
    "x=2\n",
    "a=np.array([list2])\n",
    "a=a/x\n",
    "print(a)"
   ]
  },
  {
   "cell_type": "code",
   "execution_count": 33,
   "metadata": {},
   "outputs": [
    {
     "name": "stdout",
     "output_type": "stream",
     "text": [
      "[[5. 2. 2. 4. 6.]]\n"
     ]
    }
   ],
   "source": [
    "import numpy as np\n",
    "list2=[25,10,10,20,30]\n",
    "x=5\n",
    "a=np.array([list2])\n",
    "a=a/x\n",
    "print(a)"
   ]
  },
  {
   "cell_type": "code",
   "execution_count": 35,
   "metadata": {},
   "outputs": [
    {
     "name": "stdout",
     "output_type": "stream",
     "text": [
      "[[ 1  4  9 16]]\n"
     ]
    }
   ],
   "source": [
    "import numpy as np\n",
    "list2=[1,2,3,4]\n",
    "a=np.array([list2])\n",
    "a=a**2\n",
    "print(a)"
   ]
  },
  {
   "cell_type": "code",
   "execution_count": 36,
   "metadata": {},
   "outputs": [
    {
     "name": "stdout",
     "output_type": "stream",
     "text": [
      "[[ 4 25]]\n"
     ]
    }
   ],
   "source": [
    "import numpy as np\n",
    "list2=[2,5]\n",
    "a=np.array([list2])\n",
    "a=a**2\n",
    "print(a)"
   ]
  },
  {
   "cell_type": "code",
   "execution_count": 37,
   "metadata": {},
   "outputs": [
    {
     "name": "stdout",
     "output_type": "stream",
     "text": [
      "[[121]]\n"
     ]
    }
   ],
   "source": [
    "import numpy as np\n",
    "list2=[11]\n",
    "a=np.array([list2])\n",
    "a=a**2\n",
    "print(a)"
   ]
  },
  {
   "cell_type": "code",
   "execution_count": 42,
   "metadata": {},
   "outputs": [
    {
     "name": "stdout",
     "output_type": "stream",
     "text": [
      "[[5 7 9 6]]\n",
      "[[25 35 45 30]]\n",
      "[[19 29 39 24]]\n"
     ]
    }
   ],
   "source": [
    "import numpy as np\n",
    "list2=[1,3,5,2]\n",
    "a=np.array([list2])\n",
    "m=2\n",
    "n=6\n",
    "p=5\n",
    "a=a+2*m\n",
    "print(a)\n",
    "a=a*p\n",
    "print(a)\n",
    "a=a-n\n",
    "print(a)"
   ]
  },
  {
   "cell_type": "code",
   "execution_count": 41,
   "metadata": {},
   "outputs": [
    {
     "name": "stdout",
     "output_type": "stream",
     "text": [
      "[[34]]\n"
     ]
    }
   ],
   "source": [
    "import numpy as np\n",
    "list2=[4]\n",
    "a=np.array([list2])\n",
    "m=2\n",
    "n=6\n",
    "p=5\n",
    "a=a+2*m\n",
    "a=a*p\n",
    "a=a-n\n",
    "print(a)"
   ]
  },
  {
   "cell_type": "code",
   "execution_count": 1,
   "metadata": {},
   "outputs": [
    {
     "name": "stdout",
     "output_type": "stream",
     "text": [
      "[3 5 5 7]\n"
     ]
    }
   ],
   "source": [
    "import numpy as np\n",
    "list1=[2,3,4,5]\n",
    "list2=[1,2,1,2]\n",
    "x1=np.array(list1)\n",
    "x2=np.array(list2)\n",
    "x3=x1+x2\n",
    "print(x3)"
   ]
  },
  {
   "cell_type": "code",
   "execution_count": 2,
   "metadata": {},
   "outputs": [
    {
     "name": "stdout",
     "output_type": "stream",
     "text": [
      "[3 9]\n"
     ]
    }
   ],
   "source": [
    "import numpy as np\n",
    "list1=[2,5]\n",
    "list2=[1,4]\n",
    "x1=np.array(list1)\n",
    "x2=np.array(list2)\n",
    "x3=x1+x2\n",
    "print(x3)"
   ]
  },
  {
   "cell_type": "code",
   "execution_count": 3,
   "metadata": {},
   "outputs": [
    {
     "name": "stdout",
     "output_type": "stream",
     "text": [
      "[9]\n"
     ]
    }
   ],
   "source": [
    "import numpy as np\n",
    "list1=[6]\n",
    "list2=[3]\n",
    "x1=np.array(list1)\n",
    "x2=np.array(list2)\n",
    "x3=x1+x2\n",
    "print(x3)"
   ]
  },
  {
   "cell_type": "code",
   "execution_count": 4,
   "metadata": {},
   "outputs": [
    {
     "name": "stdout",
     "output_type": "stream",
     "text": [
      "[1 1 3 3]\n"
     ]
    }
   ],
   "source": [
    "import numpy as np\n",
    "list1=[2,3,4,5]\n",
    "list2=[1,2,1,2]\n",
    "x1=np.array(list1)\n",
    "x2=np.array(list2)\n",
    "x3=x1-x2\n",
    "print(x3)"
   ]
  },
  {
   "cell_type": "code",
   "execution_count": 5,
   "metadata": {},
   "outputs": [
    {
     "name": "stdout",
     "output_type": "stream",
     "text": [
      "[1 1]\n"
     ]
    }
   ],
   "source": [
    "import numpy as np\n",
    "list1=[2,5]\n",
    "list2=[1,4]\n",
    "x1=np.array(list1)\n",
    "x2=np.array(list2)\n",
    "x3=x1-x2\n",
    "print(x3)"
   ]
  },
  {
   "cell_type": "code",
   "execution_count": 6,
   "metadata": {},
   "outputs": [
    {
     "name": "stdout",
     "output_type": "stream",
     "text": [
      "[3]\n"
     ]
    }
   ],
   "source": [
    "import numpy as np\n",
    "list1=[6]\n",
    "list2=[3]\n",
    "x1=np.array(list1)\n",
    "x2=np.array(list2)\n",
    "x3=x1-x2\n",
    "print(x3)"
   ]
  },
  {
   "cell_type": "code",
   "execution_count": 7,
   "metadata": {},
   "outputs": [
    {
     "name": "stdout",
     "output_type": "stream",
     "text": [
      "[4 3 4 5]\n"
     ]
    }
   ],
   "source": [
    "import numpy as np\n",
    "list1=[2,3,4,5]\n",
    "list2=[2,1,1,1]\n",
    "x1=np.array(list1)\n",
    "x2=np.array(list2)\n",
    "x3=x1*x2\n",
    "print(x3)"
   ]
  },
  {
   "cell_type": "code",
   "execution_count": 8,
   "metadata": {},
   "outputs": [
    {
     "name": "stdout",
     "output_type": "stream",
     "text": [
      "[ 8 15]\n"
     ]
    }
   ],
   "source": [
    "import numpy as np\n",
    "list1=[2,3]\n",
    "list2=[4,5]\n",
    "x1=np.array(list1)\n",
    "x2=np.array(list2)\n",
    "x3=x1*x2\n",
    "print(x3)"
   ]
  },
  {
   "cell_type": "code",
   "execution_count": 9,
   "metadata": {},
   "outputs": [
    {
     "name": "stdout",
     "output_type": "stream",
     "text": [
      "[18]\n"
     ]
    }
   ],
   "source": [
    "import numpy as np\n",
    "list1=[6]\n",
    "list2=[3]\n",
    "x1=np.array(list1)\n",
    "x2=np.array(list2)\n",
    "x3=x1*x2\n",
    "print(x3)"
   ]
  },
  {
   "cell_type": "code",
   "execution_count": 10,
   "metadata": {},
   "outputs": [
    {
     "name": "stdout",
     "output_type": "stream",
     "text": [
      "[2. 4. 4. 6.]\n"
     ]
    }
   ],
   "source": [
    "import numpy as np\n",
    "list1=[2,8,4,12]\n",
    "list2=[1,2,1,2]\n",
    "x1=np.array(list1)\n",
    "x2=np.array(list2)\n",
    "x3=x1/x2\n",
    "print(x3)"
   ]
  },
  {
   "cell_type": "code",
   "execution_count": 11,
   "metadata": {},
   "outputs": [
    {
     "name": "stdout",
     "output_type": "stream",
     "text": [
      "[2. 3.]\n"
     ]
    }
   ],
   "source": [
    "import numpy as np\n",
    "list1=[2,12]\n",
    "list2=[1,4]\n",
    "x1=np.array(list1)\n",
    "x2=np.array(list2)\n",
    "x3=x1/x2\n",
    "print(x3)"
   ]
  },
  {
   "cell_type": "code",
   "execution_count": 12,
   "metadata": {},
   "outputs": [
    {
     "name": "stdout",
     "output_type": "stream",
     "text": [
      "[2.]\n"
     ]
    }
   ],
   "source": [
    "import numpy as np\n",
    "list1=[6]\n",
    "list2=[3]\n",
    "x1=np.array(list1)\n",
    "x2=np.array(list2)\n",
    "x3=x1/x2\n",
    "print(x3)"
   ]
  },
  {
   "cell_type": "code",
   "execution_count": 13,
   "metadata": {},
   "outputs": [
    {
     "name": "stdout",
     "output_type": "stream",
     "text": [
      "[ 2  9  4 25]\n"
     ]
    }
   ],
   "source": [
    "import numpy as np\n",
    "list1=[2,3,4,5]\n",
    "list2=[1,2,1,2]\n",
    "x1=np.array(list1)\n",
    "x2=np.array(list2)\n",
    "x3=x1**x2\n",
    "print(x3)"
   ]
  },
  {
   "cell_type": "code",
   "execution_count": 14,
   "metadata": {},
   "outputs": [
    {
     "name": "stdout",
     "output_type": "stream",
     "text": [
      "[  2 625]\n"
     ]
    }
   ],
   "source": [
    "import numpy as np\n",
    "list1=[2,5]\n",
    "list2=[1,4]\n",
    "x1=np.array(list1)\n",
    "x2=np.array(list2)\n",
    "x3=x1**x2\n",
    "print(x3)"
   ]
  },
  {
   "cell_type": "code",
   "execution_count": 15,
   "metadata": {},
   "outputs": [
    {
     "name": "stdout",
     "output_type": "stream",
     "text": [
      "[216]\n"
     ]
    }
   ],
   "source": [
    "import numpy as np\n",
    "list1=[6]\n",
    "list2=[3]\n",
    "x1=np.array(list1)\n",
    "x2=np.array(list2)\n",
    "x3=x1**x2\n",
    "print(x3)"
   ]
  },
  {
   "cell_type": "code",
   "execution_count": 16,
   "metadata": {},
   "outputs": [
    {
     "name": "stdout",
     "output_type": "stream",
     "text": [
      "[3 6 5 8 7]\n",
      "[1 3 1 3 1]\n",
      "[ 1  6  3 12  5]\n",
      "[  1  36   3 144   5]\n"
     ]
    }
   ],
   "source": [
    "import numpy as np\n",
    "list1=[1,2,3,4,5]\n",
    "list2=[1,2,1,2,1]\n",
    "list3=[2,3,4,5,6]\n",
    "x1=np.array(list1)\n",
    "x2=np.array(list2)\n",
    "x3=np.array(list3)\n",
    "y1=x1+2*x2\n",
    "print(y1)\n",
    "y2=y1-x3\n",
    "print(y2)\n",
    "y3=y2*x1\n",
    "print(y3)\n",
    "y4=y3**x2\n",
    "print(y4)"
   ]
  },
  {
   "cell_type": "code",
   "execution_count": 2,
   "metadata": {},
   "outputs": [
    {
     "name": "stdout",
     "output_type": "stream",
     "text": [
      "[1, 2, 3, 4, 5]\n",
      "mean of numbers = 3.0\n",
      "Standard deviation of numbers = 1.4142135623730951\n"
     ]
    }
   ],
   "source": [
    "import numpy as np \n",
    "n = 5\n",
    "list1 = []\n",
    "for i in range(1,n+1):\n",
    "    list1.append(i)\n",
    "print(list1)\n",
    "ar1 = np.array(list1)\n",
    "mean_ar1 = np.mean(ar1)\n",
    "print(\"mean of numbers = {}\".format(mean_ar1))\n",
    "std_ar1 = np.std(ar1)\n",
    "print(\"Standard deviation of numbers = {}\".format(std_ar1))"
   ]
  },
  {
   "cell_type": "code",
   "execution_count": 3,
   "metadata": {},
   "outputs": [
    {
     "name": "stdout",
     "output_type": "stream",
     "text": [
      "[1, 2, 3, 4, 5, 6, 7, 8, 9, 10]\n",
      "mean of numbers = 5.5\n",
      "Standard deviation of numbers = 2.8722813232690143\n"
     ]
    }
   ],
   "source": [
    "import numpy as np \n",
    "n = 10\n",
    "list1 = []\n",
    "for i in range(1,n+1):\n",
    "    list1.append(i)\n",
    "print(list1)\n",
    "ar1 = np.array(list1)\n",
    "mean_ar1 = np.mean(ar1)\n",
    "print(\"mean of numbers = {}\".format(mean_ar1))\n",
    "std_ar1 = np.std(ar1)\n",
    "print(\"Standard deviation of numbers = {}\".format(std_ar1))\n"
   ]
  },
  {
   "cell_type": "code",
   "execution_count": 4,
   "metadata": {},
   "outputs": [
    {
     "name": "stdout",
     "output_type": "stream",
     "text": [
      "[1, 2, 3]\n",
      "mean of numbers = 2.0\n",
      "Standard deviation of numbers = 0.816496580927726\n"
     ]
    }
   ],
   "source": [
    "import numpy as np \n",
    "n = 3\n",
    "list1 = []\n",
    "for i in range(1,n+1):\n",
    "    list1.append(i)\n",
    "print(list1)\n",
    "ar1 = np.array(list1)\n",
    "mean_ar1 = np.mean(ar1)\n",
    "print(\"mean of numbers = {}\".format(mean_ar1))\n",
    "std_ar1 = np.std(ar1)\n",
    "print(\"Standard deviation of numbers = {}\".format(std_ar1))"
   ]
  },
  {
   "cell_type": "code",
   "execution_count": 5,
   "metadata": {},
   "outputs": [
    {
     "name": "stdout",
     "output_type": "stream",
     "text": [
      "[24, 23, 19, 41, 34]\n"
     ]
    }
   ],
   "source": [
    "import numpy as np \n",
    "list1=[34,33,29,51,44]\n",
    "list2=[]\n",
    "n=len(list1)\n",
    "for i in range(0,n):\n",
    "    b=list1[i]\n",
    "    c=b-10\n",
    "    list2.append(c)\n",
    "print(list2)"
   ]
  },
  {
   "cell_type": "code",
   "execution_count": 6,
   "metadata": {
    "scrolled": true
   },
   "outputs": [
    {
     "name": "stdout",
     "output_type": "stream",
     "text": [
      "[24 23 19 41 34]\n"
     ]
    }
   ],
   "source": [
    "import numpy as np \n",
    "list1=[34,33,29,51,44]\n",
    "x1=np.array(list1)\n",
    "y1=x1-10\n",
    "print(y1)\n"
   ]
  },
  {
   "cell_type": "code",
   "execution_count": 7,
   "metadata": {},
   "outputs": [
    {
     "name": "stdout",
     "output_type": "stream",
     "text": [
      "[34]\n"
     ]
    }
   ],
   "source": [
    "import numpy as np \n",
    "list1=[44]\n",
    "x1=np.array(list1)\n",
    "y1=x1-10\n",
    "print(y1)\n"
   ]
  },
  {
   "cell_type": "code",
   "execution_count": 8,
   "metadata": {},
   "outputs": [
    {
     "name": "stdout",
     "output_type": "stream",
     "text": [
      "[1 1 1 1]\n"
     ]
    }
   ],
   "source": [
    "import numpy as np \n",
    "list1=[11,11,11,11]\n",
    "x1=np.array(list1)\n",
    "y1=x1-10\n",
    "print(y1)"
   ]
  },
  {
   "cell_type": "code",
   "execution_count": 11,
   "metadata": {},
   "outputs": [
    {
     "name": "stdout",
     "output_type": "stream",
     "text": [
      "Value = 215\n",
      "Number of products sold = 10\n"
     ]
    }
   ],
   "source": [
    "import numpy as np \n",
    "list1=[2,3,5]\n",
    "list2=[10,15,30]\n",
    "l=0\n",
    "p=0\n",
    "n=len(list1)\n",
    "for i in range(0,n):\n",
    "    b=list1[i]\n",
    "    l=b+l\n",
    "    m=list1[i]*list2[i]\n",
    "    p=p+m\n",
    "print(\"Value = {}\".format(p))\n",
    "print(\"Number of products sold = {}\".format(l))"
   ]
  },
  {
   "cell_type": "code",
   "execution_count": 10,
   "metadata": {},
   "outputs": [
    {
     "name": "stdout",
     "output_type": "stream",
     "text": [
      "Value = 70\n",
      "Number of products sold = 12\n"
     ]
    }
   ],
   "source": [
    "import numpy as np \n",
    "list1=[2,10]\n",
    "list2=[5,6]\n",
    "l=0\n",
    "p=0\n",
    "n=len(list1)\n",
    "for i in range(0,n):\n",
    "    b=list1[i]\n",
    "    l=b+l\n",
    "    m=list1[i]*list2[i]\n",
    "    p=p+m\n",
    "print(\"Value = {}\".format(p))\n",
    "print(\"Number of products sold = {}\".format(l))"
   ]
  },
  {
   "cell_type": "code",
   "execution_count": 12,
   "metadata": {},
   "outputs": [
    {
     "name": "stdout",
     "output_type": "stream",
     "text": [
      "Value = 35\n",
      "Number of products sold = 8\n"
     ]
    }
   ],
   "source": [
    "import numpy as np \n",
    "list1=[1,1,2,2,2]\n",
    "list2=[2,3,4,5,6]\n",
    "l=0\n",
    "p=0\n",
    "n=len(list1)\n",
    "for i in range(0,n):\n",
    "    b=list1[i]\n",
    "    l=b+l\n",
    "    m=list1[i]*list2[i]\n",
    "    p=p+m\n",
    "print(\"Value = {}\".format(p))\n",
    "print(\"Number of products sold = {}\".format(l))"
   ]
  },
  {
   "cell_type": "code",
   "execution_count": null,
   "metadata": {},
   "outputs": [],
   "source": []
  }
 ],
 "metadata": {
  "kernelspec": {
   "display_name": "Python 3",
   "language": "python",
   "name": "python3"
  },
  "language_info": {
   "codemirror_mode": {
    "name": "ipython",
    "version": 3
   },
   "file_extension": ".py",
   "mimetype": "text/x-python",
   "name": "python",
   "nbconvert_exporter": "python",
   "pygments_lexer": "ipython3",
   "version": "3.7.3"
  }
 },
 "nbformat": 4,
 "nbformat_minor": 4
}
