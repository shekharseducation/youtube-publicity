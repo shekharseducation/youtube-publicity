{
 "cells": [
  {
   "cell_type": "code",
   "execution_count": 1,
   "metadata": {},
   "outputs": [
    {
     "name": "stdout",
     "output_type": "stream",
     "text": [
      "[1 2 3 4]\n"
     ]
    }
   ],
   "source": [
    "import numpy as np\n",
    "list1 = [1,2,3,4]\n",
    "ar1 = np.array(list1)\n",
    "print(ar1)"
   ]
  },
  {
   "cell_type": "code",
   "execution_count": 2,
   "metadata": {},
   "outputs": [
    {
     "name": "stdout",
     "output_type": "stream",
     "text": [
      "[1 2 3 4]\n",
      "[7 2 3 4]\n"
     ]
    }
   ],
   "source": [
    "import numpy as np\n",
    "list1 = [1,2,3,4]\n",
    "ar1 = np.array(list1)\n",
    "print(ar1)\n",
    "ar1[0] = 7\n",
    "print(ar1)"
   ]
  },
  {
   "cell_type": "code",
   "execution_count": 3,
   "metadata": {},
   "outputs": [
    {
     "name": "stdout",
     "output_type": "stream",
     "text": [
      "[1 2 3 4]\n",
      "[7 2 3 4]\n",
      "[7 6 3 4]\n"
     ]
    }
   ],
   "source": [
    "import numpy as np\n",
    "list1 = [1,2,3,4]\n",
    "ar1 = np.array(list1)\n",
    "print(ar1)\n",
    "ar1[0] = 7\n",
    "print(ar1)\n",
    "ar1[1] = 6\n",
    "print(ar1)"
   ]
  },
  {
   "cell_type": "code",
   "execution_count": 4,
   "metadata": {},
   "outputs": [
    {
     "name": "stdout",
     "output_type": "stream",
     "text": [
      "[1 2 3 4]\n",
      "[7 2 3 4]\n",
      "[7 6 3 4]\n",
      "Length of the numpy array = 4\n"
     ]
    }
   ],
   "source": [
    "import numpy as np\n",
    "list1 = [1,2,3,4]\n",
    "ar1 = np.array(list1)\n",
    "print(ar1)\n",
    "ar1[0] = 7\n",
    "print(ar1)\n",
    "ar1[1] = 6\n",
    "print(ar1)\n",
    "print(\"Length of the numpy array = {}\".format(len(ar1)))"
   ]
  },
  {
   "cell_type": "code",
   "execution_count": 6,
   "metadata": {},
   "outputs": [
    {
     "name": "stdout",
     "output_type": "stream",
     "text": [
      "[1 2 3 5]\n",
      "Length of the numpy array = 4\n",
      "1\n",
      "2\n",
      "3\n",
      "5\n"
     ]
    }
   ],
   "source": [
    "import numpy as np\n",
    "list1 = [1,2,3,5]\n",
    "ar1 = np.array(list1)\n",
    "print(ar1)\n",
    "print(\"Length of the numpy array = {}\".format(len(ar1)))\n",
    "for i in ar1 :\n",
    "    print(i)"
   ]
  },
  {
   "cell_type": "code",
   "execution_count": 1,
   "metadata": {},
   "outputs": [
    {
     "name": "stdout",
     "output_type": "stream",
     "text": [
      "Sum of numbers = 11\n"
     ]
    }
   ],
   "source": [
    "import numpy as np\n",
    "list1 = [1,2,3,5]\n",
    "ar1 = np.array(list1)\n",
    "sum_ar1 = np.sum(ar1)\n",
    "print(\"Sum of numbers = {}\".format(sum_ar1))"
   ]
  },
  {
   "cell_type": "code",
   "execution_count": 2,
   "metadata": {},
   "outputs": [
    {
     "name": "stdout",
     "output_type": "stream",
     "text": [
      "Sum of numbers = 11\n",
      "mean of numbers = 2.75\n"
     ]
    }
   ],
   "source": [
    "import numpy as np\n",
    "list1 = [1,2,3,5]\n",
    "ar1 = np.array(list1)\n",
    "sum_ar1 = np.sum(ar1)\n",
    "print(\"Sum of numbers = {}\".format(sum_ar1))\n",
    "mean_ar1 = np.mean(ar1)\n",
    "print(\"mean of numbers = {}\".format(mean_ar1))"
   ]
  },
  {
   "cell_type": "code",
   "execution_count": 4,
   "metadata": {},
   "outputs": [
    {
     "name": "stdout",
     "output_type": "stream",
     "text": [
      "Sum of numbers = 10\n",
      "mean of numbers = 2.5\n",
      "Standard deviation of numbers = 1.118033988749895\n"
     ]
    }
   ],
   "source": [
    "import numpy as np\n",
    "list1 = [1,2,3,4]\n",
    "ar1 = np.array(list1)\n",
    "sum_ar1 = np.sum(ar1)\n",
    "print(\"Sum of numbers = {}\".format(sum_ar1))\n",
    "mean_ar1 = np.mean(ar1)\n",
    "print(\"mean of numbers = {}\".format(mean_ar1))\n",
    "std_ar1 = np.std(ar1)\n",
    "print(\"Standard deviation of numbers = {}\".format(std_ar1))\n"
   ]
  },
  {
   "cell_type": "code",
   "execution_count": 5,
   "metadata": {},
   "outputs": [
    {
     "name": "stdout",
     "output_type": "stream",
     "text": [
      "Sum of numbers = 10\n",
      "mean of numbers = 2.5\n",
      "Standard deviation of numbers = 1.118033988749895\n",
      "Max of numbers = 4\n"
     ]
    }
   ],
   "source": [
    "import numpy as np\n",
    "list1 = [1,2,3,4]\n",
    "ar1 = np.array(list1)\n",
    "sum_ar1 = np.sum(ar1)\n",
    "print(\"Sum of numbers = {}\".format(sum_ar1))\n",
    "mean_ar1 = np.mean(ar1)\n",
    "print(\"mean of numbers = {}\".format(mean_ar1))\n",
    "std_ar1 = np.std(ar1)\n",
    "print(\"Standard deviation of numbers = {}\".format(std_ar1))\n",
    "print(\"Max of numbers = {}\".format(np.max(ar1)))\n"
   ]
  },
  {
   "cell_type": "code",
   "execution_count": 6,
   "metadata": {},
   "outputs": [
    {
     "name": "stdout",
     "output_type": "stream",
     "text": [
      "Sum of numbers = 10\n",
      "mean of numbers = 2.5\n",
      "Standard deviation of numbers = 1.118033988749895\n",
      "Max of numbers = 4\n",
      "Min of numbers = 1\n"
     ]
    }
   ],
   "source": [
    "import numpy as np\n",
    "list1 = [1,2,3,4]\n",
    "ar1 = np.array(list1)\n",
    "sum_ar1 = np.sum(ar1)\n",
    "print(\"Sum of numbers = {}\".format(sum_ar1))\n",
    "mean_ar1 = np.mean(ar1)\n",
    "print(\"mean of numbers = {}\".format(mean_ar1))\n",
    "std_ar1 = np.std(ar1)\n",
    "print(\"Standard deviation of numbers = {}\".format(std_ar1))\n",
    "print(\"Max of numbers = {}\".format(np.max(ar1)))\n",
    "print(\"Min of numbers = {}\".format(np.min(ar1)))"
   ]
  },
  {
   "cell_type": "code",
   "execution_count": 7,
   "metadata": {},
   "outputs": [
    {
     "name": "stdout",
     "output_type": "stream",
     "text": [
      "Sum of numbers = 30\n",
      "mean of numbers = 6.0\n",
      "Standard deviation of numbers = 2.8284271247461903\n",
      "Max of numbers = 10\n",
      "Min of numbers = 2\n"
     ]
    }
   ],
   "source": [
    "import numpy as np\n",
    "list1 = [2,4,6,8,10]\n",
    "ar1 = np.array(list1)\n",
    "sum_ar1 = np.sum(ar1)\n",
    "print(\"Sum of numbers = {}\".format(sum_ar1))\n",
    "mean_ar1 = np.mean(ar1)\n",
    "print(\"mean of numbers = {}\".format(mean_ar1))\n",
    "std_ar1 = np.std(ar1)\n",
    "print(\"Standard deviation of numbers = {}\".format(std_ar1))\n",
    "print(\"Max of numbers = {}\".format(np.max(ar1)))\n",
    "print(\"Min of numbers = {}\".format(np.min(ar1)))"
   ]
  },
  {
   "cell_type": "code",
   "execution_count": 12,
   "metadata": {},
   "outputs": [
    {
     "name": "stdout",
     "output_type": "stream",
     "text": [
      "[3 4 5 6]\n",
      "[0 1 2 3]\n",
      "[2 4 6 8]\n",
      "[0.5 1.  1.5 2. ]\n",
      "[ 1  8 27 64]\n"
     ]
    }
   ],
   "source": [
    "import numpy as np\n",
    "a= np.array([1,2,3,4])\n",
    "b=a+2\n",
    "print(b)\n",
    "b = a-1\n",
    "print(b)\n",
    "b=a*2\n",
    "print(b)\n",
    "b=a/2\n",
    "print(b)\n",
    "b=a**3\n",
    "print(b)"
   ]
  },
  {
   "cell_type": "code",
   "execution_count": 13,
   "metadata": {},
   "outputs": [
    {
     "name": "stdout",
     "output_type": "stream",
     "text": [
      "[3 4 5 6]\n",
      "[2 3 4 5]\n",
      "[ 4  6  8 10]\n",
      "[2. 3. 4. 5.]\n",
      "[  8.  27.  64. 125.]\n"
     ]
    }
   ],
   "source": [
    "import numpy as np\n",
    "a= np.array([1,2,3,4])\n",
    "a=a+2\n",
    "print(a)\n",
    "a = a-1\n",
    "print(a)\n",
    "a=a*2\n",
    "print(a)\n",
    "a=a/2\n",
    "print(a)\n",
    "a=a**3\n",
    "print(a)"
   ]
  },
  {
   "cell_type": "code",
   "execution_count": 1,
   "metadata": {},
   "outputs": [
    {
     "name": "stdout",
     "output_type": "stream",
     "text": [
      "[ 4  6  8 10]\n"
     ]
    }
   ],
   "source": [
    "import numpy as np\n",
    "a = np.array([3,4,5,6])\n",
    "b = np.array([1,2,3,4])\n",
    "c=a+b\n",
    "print(c)"
   ]
  },
  {
   "cell_type": "code",
   "execution_count": 2,
   "metadata": {},
   "outputs": [
    {
     "name": "stdout",
     "output_type": "stream",
     "text": [
      "[ 4  6  8 10]\n",
      "[2 2 2 2]\n",
      "[ 3  8 15 24]\n",
      "[3.         2.         1.66666667 1.5       ]\n",
      "[   3   16  125 1296]\n"
     ]
    }
   ],
   "source": [
    "import numpy as np\n",
    "a = np.array([3,4,5,6])\n",
    "b = np.array([1,2,3,4])\n",
    "c=a+b\n",
    "print(c)\n",
    "c=a-b\n",
    "print(c)\n",
    "c=a*b\n",
    "print(c)\n",
    "c=a/b\n",
    "print(c)\n",
    "c=a**b\n",
    "print(c)"
   ]
  },
  {
   "cell_type": "code",
   "execution_count": 3,
   "metadata": {},
   "outputs": [
    {
     "name": "stdout",
     "output_type": "stream",
     "text": [
      "Mean of a=4.5 Standard Deviation of a=1.118033988749895\n"
     ]
    }
   ],
   "source": [
    "import numpy as np\n",
    "a = np.array([3,4,5,6])\n",
    "m1 = np.mean(a)\n",
    "s1=np.std(a)\n",
    "print(\"Mean of a={}\".format(m1),\"Standard Deviation of a={}\".format(s1))"
   ]
  },
  {
   "cell_type": "code",
   "execution_count": 4,
   "metadata": {},
   "outputs": [
    {
     "name": "stdout",
     "output_type": "stream",
     "text": [
      "Mean of a=4.5 Standard Deviation of a=1.118033988749895\n",
      "Mean of b=0.0 Standard Deviation of b=1.118033988749895\n"
     ]
    }
   ],
   "source": [
    "import numpy as np\n",
    "a = np.array([3,4,5,6])\n",
    "m1 = np.mean(a)\n",
    "s1=np.std(a)\n",
    "print(\"Mean of a={}\".format(m1),\"Standard Deviation of a={}\".format(s1))\n",
    "b=a-m1\n",
    "m2=np.mean(b)\n",
    "s2=np.std(b)\n",
    "print(\"Mean of b={}\".format(m2),\"Standard Deviation of b={}\".format(s2))"
   ]
  },
  {
   "cell_type": "code",
   "execution_count": 5,
   "metadata": {},
   "outputs": [
    {
     "name": "stdout",
     "output_type": "stream",
     "text": [
      "Mean of a=4.5 Standard Deviation of a=1.118033988749895\n",
      "Mean of b=0.0 Standard Deviation of b=1.0\n"
     ]
    }
   ],
   "source": [
    "import numpy as np\n",
    "a = np.array([3,4,5,6])\n",
    "m1 = np.mean(a)\n",
    "s1=np.std(a)\n",
    "print(\"Mean of a={}\".format(m1),\"Standard Deviation of a={}\".format(s1))\n",
    "b=(a-m1)/s1\n",
    "m2=np.mean(b)\n",
    "s2=np.std(b)\n",
    "print(\"Mean of b={}\".format(m2),\"Standard Deviation of b={}\".format(s2))"
   ]
  },
  {
   "cell_type": "code",
   "execution_count": null,
   "metadata": {},
   "outputs": [],
   "source": []
  }
 ],
 "metadata": {
  "kernelspec": {
   "display_name": "Python 3",
   "language": "python",
   "name": "python3"
  },
  "language_info": {
   "codemirror_mode": {
    "name": "ipython",
    "version": 3
   },
   "file_extension": ".py",
   "mimetype": "text/x-python",
   "name": "python",
   "nbconvert_exporter": "python",
   "pygments_lexer": "ipython3",
   "version": "3.7.3"
  }
 },
 "nbformat": 4,
 "nbformat_minor": 4
}
